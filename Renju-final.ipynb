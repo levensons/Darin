{
 "cells": [
  {
   "cell_type": "code",
   "execution_count": 1,
   "metadata": {
    "_uuid": "947e9d1d4f2487db2163a0c10e761ce2469b8938"
   },
   "outputs": [],
   "source": [
    "import numpy as np\n",
    "import torch\n",
    "import torch.nn as nn\n",
    "import torchvision\n",
    "import torchvision.transforms as transforms\n",
    "import utils\n",
    "import torch.nn.functional as F\n",
    "import matplotlib\n",
    "import matplotlib.pyplot as plt\n",
    "from torch.utils.data.dataset import Dataset\n",
    "from torchvision import transforms\n",
    "import torch.optim as optim\n",
    "\n",
    "device = torch.device('cuda:0' if torch.cuda.is_available() else 'cpu')"
   ]
  },
  {
   "cell_type": "code",
   "execution_count": 2,
   "metadata": {
    "_uuid": "c2554e0c2c2022768b6e162584275f4d88e13191"
   },
   "outputs": [
    {
     "name": "stdout",
     "output_type": "stream",
     "text": [
      "(1984694,)\n"
     ]
    }
   ],
   "source": [
    "data = np.loadtxt('../input/data-first/train-1.txt', dtype=str, delimiter = '\\n')\n",
    "#Valid = np.loadtxt('../input/train2/train-2.txt', dtype=str, delimiter = '\\n')\n",
    "print(data.shape)"
   ]
  },
  {
   "cell_type": "code",
   "execution_count": 3,
   "metadata": {
    "_uuid": "9922684b2a258464dbde36de3ab751c385b532f5"
   },
   "outputs": [],
   "source": [
    "blacks = 0\n",
    "whites = 0"
   ]
  },
  {
   "cell_type": "code",
   "execution_count": 4,
   "metadata": {
    "_uuid": "c5a531c20bf885e583f87765c245c4ca61285fd7"
   },
   "outputs": [],
   "source": [
    "for elem in data:\n",
    "    if elem[0] == 'b':\n",
    "        blacks += 1\n",
    "    elif elem[0] == 'w':\n",
    "        whites += 1"
   ]
  },
  {
   "cell_type": "code",
   "execution_count": 5,
   "metadata": {
    "_uuid": "4ff3494a298c16cb7485165560eee3377445107e"
   },
   "outputs": [],
   "source": [
    "curBlack = 0\n",
    "curWhite = 0"
   ]
  },
  {
   "cell_type": "code",
   "execution_count": 6,
   "metadata": {
    "_uuid": "eaec41f979ec05d7d44d45964ae0e3b3d7b2066f"
   },
   "outputs": [],
   "source": [
    "blackTurnBoard = np.ones(shape=(15, 15), dtype=np.int8)\n",
    "whiteTurnBoard = -np.ones(shape=(15, 15), dtype=np.int8)"
   ]
  },
  {
   "cell_type": "code",
   "execution_count": 7,
   "metadata": {
    "_uuid": "389a0ca512e9d440a4b028145635ab5a22f777bf"
   },
   "outputs": [],
   "source": [
    "def ToPos(turn, bias_x, bias_y):\n",
    "    letter = ord(turn[0]) - ord('a')\n",
    "    if 0 <= letter + bias_x <= 14:\n",
    "        letter += bias_x\n",
    "    else:\n",
    "        return -1, -1\n",
    "    \n",
    "    num = int(turn[1:]) - 1\n",
    "    if 0 <= num + bias_y <= 14:\n",
    "        num += bias_y\n",
    "    else:\n",
    "        return -1, -1\n",
    "\n",
    "    return letter, num\n",
    "\n",
    "def Transform(game, color, turn, bias):\n",
    "    if color == \"black\":\n",
    "        playerBoard = blackTurnBoard\n",
    "    else:\n",
    "        playerBoard = whiteTurnBoard\n",
    "\n",
    "    res = []\n",
    "    labels = []\n",
    "\n",
    "    for direction in range(8):\n",
    "        if direction == 0:\n",
    "            bias_x, bias_y = bias, 0\n",
    "        if direction == 1:\n",
    "            bias_x, bias_y = -bias, 0\n",
    "        if direction == 2:\n",
    "            bias_x, bias_y = 0, -bias\n",
    "        if direction == 3:\n",
    "            bias_x, bias_y = 0, bias\n",
    "        if direction == 4:\n",
    "            bias_x, bias_y = bias, bias\n",
    "        if direction == 5:\n",
    "            bias_x, bias_y = bias, -bias\n",
    "        if direction == 6:\n",
    "            bias_x, bias_y = -bias, -bias\n",
    "        if direction == 7:\n",
    "            bias_x, bias_y = -bias, bias\n",
    "\n",
    "        curPlayer = 1\n",
    "        whiteBoard = np.zeros(shape=(15, 15), dtype=np.int8)\n",
    "        blackBoard = np.zeros(shape=(15, 15), dtype=np.int8)\n",
    "        for i in range(1, turn + 1):\n",
    "            if len(game[i]) < 2:\n",
    "                continue\n",
    "            CurTurn = ToPos(game[i], bias_x, bias_y)\n",
    "            if CurTurn[0] == -1 and CurTurn[1] == -1:\n",
    "                continue\n",
    "            if curPlayer == 1:\n",
    "                blackBoard[CurTurn] = 1\n",
    "            else:\n",
    "                whiteBoard[CurTurn] = -1\n",
    "            curPlayer *= -1\n",
    "\n",
    "        curBoard = np.zeros(shape=(3, 15, 15))\n",
    "        curBoard[0,:] = playerBoard\n",
    "        curBoard[1,:] = blackBoard\n",
    "        curBoard[2,:] = whiteBoard\n",
    "        label = ToPos(game[turn + 1], bias_x, bias_y)\n",
    "        if label[0] == -1 and label[1] == -1:\n",
    "            continue\n",
    "\n",
    "        res.append(curBoard)\n",
    "        labels.append(label[0] * 15 + label[1])\n",
    "\n",
    "    return np.asarray(res), np.asarray(labels)"
   ]
  },
  {
   "cell_type": "code",
   "execution_count": 8,
   "metadata": {
    "_uuid": "8312f9e1134b4fac88fbaf507943c892731da3cc"
   },
   "outputs": [],
   "source": [
    "NumOfFine = 0\n",
    "for elem in data:\n",
    "    if elem[0] != 'd' and elem[0] != 'u':\n",
    "        NumOfFine += 1"
   ]
  },
  {
   "cell_type": "code",
   "execution_count": 9,
   "metadata": {
    "_uuid": "3402547feb22f649782df44b5d5becd851841dee"
   },
   "outputs": [
    {
     "name": "stdout",
     "output_type": "stream",
     "text": [
      "(1941123,)\n"
     ]
    }
   ],
   "source": [
    "Dataset = np.ndarray(shape=NumOfFine, dtype='U765')\n",
    "idx = 0\n",
    "for elem in data:\n",
    "    if elem[0] != 'd' and elem[0] != 'u':\n",
    "        Dataset[idx] = elem\n",
    "        idx += 1\n",
    "print(Dataset.shape)"
   ]
  },
  {
   "cell_type": "code",
   "execution_count": 10,
   "metadata": {
    "_uuid": "f0875d344abef243b26ed255da1955b28c29eed3"
   },
   "outputs": [],
   "source": [
    "def GetRandom(data, bias):\n",
    "    game = []\n",
    "    while len(game) <= 4:\n",
    "        gameNum = np.random.randint(data.shape[0])\n",
    "        game = data[gameNum].split()\n",
    "    color = game[0]\n",
    "    turn = np.random.randint((len(game) - 2) // 2)\n",
    "    if color[0] == 'b':\n",
    "        board, label = Transform(game, color, turn * 2, bias)\n",
    "    else:\n",
    "        board, label = Transform(game, color, turn * 2 + 1, bias)\n",
    "\n",
    "    return board, label\n",
    "\n",
    "def Generator(size, data):\n",
    "    Batch = np.ndarray(shape=(0, 3, 15, 15), dtype=np.int8)\n",
    "    BatchLabels = np.ndarray(shape=0, dtype=np.long)\n",
    "    for i in range(size):\n",
    "        bias = np.random.randint(1, 4)\n",
    "        res, labels = GetRandom(data, bias)\n",
    "        Batch = np.concatenate((Batch, res), axis=0)\n",
    "        BatchLabels = np.concatenate((BatchLabels, labels), axis=0)\n",
    "\n",
    "    return torch.from_numpy(Batch).float(), torch.from_numpy(BatchLabels)"
   ]
  },
  {
   "cell_type": "code",
   "execution_count": 11,
   "metadata": {
    "_uuid": "e871fba78855166feed714eb135863e20d07e95b"
   },
   "outputs": [],
   "source": [
    "class ConvNet(nn.Module):\n",
    "    def __init__(self):\n",
    "        super(ConvNet, self).__init__()\n",
    "        self.layer1 = nn.Sequential(\n",
    "            nn.Conv2d(3, 64, kernel_size=3, stride=1, padding=1),\n",
    "            nn.ReLU())\n",
    "        self.layer2 = nn.Sequential(\n",
    "            nn.Conv2d(64, 128, kernel_size=4, stride=1, padding=2),\n",
    "            nn.BatchNorm2d(128, affine=False),\n",
    "            nn.ReLU())\n",
    "        self.layer3 = nn.Sequential(\n",
    "            nn.Conv2d(128, 64, kernel_size=5, stride=1, padding=0),\n",
    "            nn.ReLU())\n",
    "        self.layer4 = nn.Sequential(\n",
    "            nn.Conv2d(64, 32, kernel_size=3, stride=1, padding=1),\n",
    "            nn.ReLU())\n",
    "        self.layer5 = nn.Sequential(\n",
    "            nn.Conv2d(32, 16, kernel_size=4, stride=1, padding=0),\n",
    "            nn.ReLU())\n",
    "        self.fc = nn.Linear(16 * 9 * 9, 15 * 15)\n",
    "        self.drop = nn.Dropout(0.25)\n",
    "\n",
    "    def forward(self, x):\n",
    "        x = self.layer1(x)\n",
    "        x = self.layer2(x)\n",
    "        x = self.layer3(x)\n",
    "        x = self.layer4(x)\n",
    "        x = self.layer5(x)\n",
    "        x = x.view(-1, 16 * 9 * 9)\n",
    "        x = self.drop(x)\n",
    "        x = self.fc(x)\n",
    "        x = F.log_softmax(x, dim=1)\n",
    "\n",
    "        return x"
   ]
  },
  {
   "cell_type": "code",
   "execution_count": 12,
   "metadata": {
    "_uuid": "e022f8200af8aa070382d9c1382d1d2c706fc11a"
   },
   "outputs": [],
   "source": [
    "DatasetTrain = Dataset[0 : (NumOfFine * 8) // 10]\n",
    "DatasetValid = Dataset[(NumOfFine * 8) // 10 : NumOfFine]\n",
    "\n",
    "net = ConvNet()\n",
    "net = net.to(device)\n",
    "criterion = nn.CrossEntropyLoss()\n",
    "CntBatch = 400000\n",
    "CntEpoch = 2\n",
    "BatchSize = 16\n",
    "optimizer = optim.Adam(net.parameters(), lr=0.0001)\n",
    "net.load_state_dict(torch.load(\"../input/model6/model5-4.dms\", map_location=device))"
   ]
  },
  {
   "cell_type": "code",
   "execution_count": 13,
   "metadata": {
    "_uuid": "801ccd1bb87097d004aa2fda167d10c52f207516",
    "scrolled": true
   },
   "outputs": [
    {
     "name": "stdout",
     "output_type": "stream",
     "text": [
      "[1, 10000] loss: 1.903\n",
      "[1, 20000] loss: 1.900\n",
      "[1, 30000] loss: 1.888\n",
      "[1, 40000] loss: 1.899\n",
      "[1, 50000] loss: 1.899\n",
      "[1, 60000] loss: 1.896\n",
      "[1, 70000] loss: 1.891\n",
      "[1, 80000] loss: 1.894\n",
      "[1, 90000] loss: 1.891\n",
      "[1, 100000] loss: 1.901\n",
      "[1, 110000] loss: 1.895\n",
      "[1, 120000] loss: 1.889\n",
      "[1, 130000] loss: 1.894\n",
      "[1, 140000] loss: 1.898\n",
      "[1, 150000] loss: 1.891\n",
      "[1, 160000] loss: 1.883\n",
      "[1, 170000] loss: 1.888\n",
      "[1, 180000] loss: 1.894\n",
      "[1, 190000] loss: 1.888\n",
      "[1, 200000] loss: 1.888\n",
      "[1, 210000] loss: 1.889\n",
      "[1, 220000] loss: 1.879\n",
      "[1, 230000] loss: 1.882\n",
      "[1, 240000] loss: 1.883\n",
      "[1, 250000] loss: 1.885\n",
      "[1, 260000] loss: 1.882\n",
      "[1, 270000] loss: 1.885\n",
      "[1, 280000] loss: 1.892\n",
      "[1, 290000] loss: 1.889\n",
      "[1, 300000] loss: 1.876\n",
      "[1, 310000] loss: 1.873\n",
      "[1, 320000] loss: 1.881\n",
      "[1, 330000] loss: 1.885\n",
      "[1, 340000] loss: 1.887\n",
      "[1, 350000] loss: 1.874\n",
      "[1, 360000] loss: 1.873\n",
      "[1, 370000] loss: 1.877\n",
      "[1, 380000] loss: 1.876\n",
      "[1, 390000] loss: 1.873\n",
      "[1, 400000] loss: 1.877\n",
      "[2, 10000] loss: 1.869\n",
      "[2, 20000] loss: 1.873\n",
      "[2, 30000] loss: 1.875\n",
      "[2, 40000] loss: 1.874\n",
      "[2, 50000] loss: 1.872\n",
      "[2, 60000] loss: 1.873\n",
      "[2, 70000] loss: 1.870\n",
      "[2, 80000] loss: 1.868\n",
      "[2, 90000] loss: 1.873\n",
      "[2, 100000] loss: 1.874\n",
      "[2, 110000] loss: 1.870\n",
      "[2, 120000] loss: 1.873\n",
      "[2, 130000] loss: 1.863\n",
      "[2, 140000] loss: 1.875\n",
      "[2, 150000] loss: 1.874\n",
      "[2, 160000] loss: 1.870\n",
      "[2, 170000] loss: 1.874\n",
      "[2, 180000] loss: 1.874\n",
      "[2, 190000] loss: 1.873\n",
      "[2, 200000] loss: 1.868\n",
      "[2, 210000] loss: 1.871\n",
      "[2, 220000] loss: 1.872\n",
      "[2, 230000] loss: 1.870\n",
      "[2, 240000] loss: 1.869\n",
      "[2, 250000] loss: 1.866\n",
      "[2, 260000] loss: 1.863\n",
      "[2, 270000] loss: 1.868\n",
      "[2, 280000] loss: 1.866\n",
      "[2, 290000] loss: 1.868\n",
      "[2, 300000] loss: 1.869\n",
      "[2, 310000] loss: 1.866\n",
      "[2, 320000] loss: 1.862\n",
      "[2, 330000] loss: 1.867\n",
      "[2, 340000] loss: 1.864\n",
      "[2, 350000] loss: 1.861\n",
      "[2, 360000] loss: 1.869\n",
      "[2, 370000] loss: 1.870\n",
      "[2, 380000] loss: 1.870\n",
      "[2, 390000] loss: 1.860\n",
      "[2, 400000] loss: 1.861\n",
      "Finished Training\n"
     ]
    }
   ],
   "source": [
    "for epoch in range(CntEpoch):\n",
    "    running_loss = 0.0\n",
    "    \n",
    "    for i in range(CntBatch):\n",
    "        inputs, labels = Generator(BatchSize, DatasetTrain)\n",
    "        inputs = inputs.to(device)\n",
    "        labels = labels.to(device)\n",
    "\n",
    "        optimizer.zero_grad()\n",
    "\n",
    "        outputs = net(inputs)\n",
    "        loss = criterion(outputs, labels)\n",
    "        loss.backward()\n",
    "        optimizer.step()\n",
    "\n",
    "        running_loss += loss.item()\n",
    "\n",
    "        if i % 10000 == 9999:\n",
    "            print('[%d, %5d] loss: %.3f' %\n",
    "                  (epoch + 1, i + 1, running_loss / 10000))\n",
    "            running_loss = 0.0\n",
    "print('Finished Training')"
   ]
  },
  {
   "cell_type": "code",
   "execution_count": 14,
   "metadata": {
    "_uuid": "dfd146f9c7d6279ac40d098694d86f8fadac676a"
   },
   "outputs": [],
   "source": [
    "torch.save(net.state_dict(), \"./model5\")"
   ]
  },
  {
   "cell_type": "code",
   "execution_count": 15,
   "metadata": {
    "_uuid": "8457337bcf7b7611d88b74efe89ef93df0eda09e"
   },
   "outputs": [
    {
     "name": "stdout",
     "output_type": "stream",
     "text": [
      "Accuracy of the network on the 200 positions: 46.083357 %\n",
      "Accuracy of the network on the 200 positions: 45.872773 %\n",
      "Accuracy of the network on the 200 positions: 45.887109 %\n",
      "Accuracy of the network on the 200 positions: 45.888661 %\n",
      "Accuracy of the network on the 200 positions: 45.875111 %\n",
      "Accuracy of the network on the 50000 positions: 45 %\n"
     ]
    }
   ],
   "source": [
    "correct = 0\n",
    "total = 0\n",
    "for i in range(50000):\n",
    "    if i % 10000 == 9999:\n",
    "        print('Accuracy of the network on the 200 positions: %5f %%' % (100 * correct / total))    \n",
    "    inputs, labels = Generator(BatchSize, DatasetValid)\n",
    "    inputs = inputs.to(device)\n",
    "    labels = labels.to(device)\n",
    "    outputs = net(inputs)\n",
    "    _, predicted = torch.max(outputs.data, 1)\n",
    "    total += labels.size(0)\n",
    "    correct += (predicted == labels).sum().item()\n",
    "\n",
    "print('Accuracy of the network on the 50000 positions: %d %%' % (100 * correct / total))"
   ]
  },
  {
   "cell_type": "code",
   "execution_count": 16,
   "metadata": {
    "_uuid": "0c930cb3267ed61e024645694e9d64abd19f3185"
   },
   "outputs": [],
   "source": []
  }
 ],
 "metadata": {
  "kernelspec": {
   "display_name": "Python 3",
   "language": "python",
   "name": "python3"
  },
  "language_info": {
   "codemirror_mode": {
    "name": "ipython",
    "version": 3
   },
   "file_extension": ".py",
   "mimetype": "text/x-python",
   "name": "python",
   "nbconvert_exporter": "python",
   "pygments_lexer": "ipython3",
   "version": "3.6.6"
  }
 },
 "nbformat": 4,
 "nbformat_minor": 1
}
